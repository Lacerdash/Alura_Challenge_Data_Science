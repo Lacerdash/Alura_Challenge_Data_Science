{
 "cells": [
  {
   "cell_type": "markdown",
   "metadata": {},
   "source": [
    "### Dicionário de dados"
   ]
  },
  {
   "cell_type": "markdown",
   "metadata": {},
   "source": [
    "* `customerID`: número de identificação único de cada cliente\n",
    "* `Churn`: se o cliente deixou ou não a empresa \n",
    "* `gender`: gênero (masculino e feminino) \n",
    "* `SeniorCitizen`: informação sobre um cliente ter ou não idade igual ou maior que 65 anos \n",
    "* `Partner`:  se o cliente possui ou não um parceiro ou parceira\n",
    "* `Dependents`: se o cliente possui ou não dependentes\n",
    "* `tenure`:  meses de contrato do cliente\n",
    "* `PhoneService`: assinatura de serviço telefônico \n",
    "* `MultipleLines`: assisnatura de mais de uma linha de telefone \n",
    "* `InternetService`: assinatura de um provedor internet \n",
    "* `OnlineSecurity`: assinatura adicional de segurança online \n",
    "* `OnlineBackup`: assinatura adicional de backup online \n",
    "* `DeviceProtection`: assinatura adicional de proteção no dispositivo \n",
    "* `TechSupport`: assinatura adicional de suporte técnico, menos tempo de espera\n",
    "* `StreamingTV`: assinatura de TV a cabo \n",
    "* `StreamingMovies`: assinatura de streaming de filmes \n",
    "* `Contract`: tipo de contrato\n",
    "* `PaperlessBilling`: se o cliente prefere receber online a fatura\n",
    "* `PaymentMethod`: forma de pagamento\n",
    "* `Charges.Monthly`: total de todos os serviços do cliente por mês\n",
    "* `Charges.Total`: total gasto pelo cliente"
   ]
  }
 ],
 "metadata": {
  "language_info": {
   "name": "python"
  },
  "orig_nbformat": 4
 },
 "nbformat": 4,
 "nbformat_minor": 2
}
